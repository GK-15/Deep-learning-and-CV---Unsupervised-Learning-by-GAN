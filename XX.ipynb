{
  "nbformat": 4,
  "nbformat_minor": 0,
  "metadata": {
    "colab": {
      "name": "XX.ipynb",
      "provenance": [],
      "collapsed_sections": []
    },
    "kernelspec": {
      "name": "python3",
      "display_name": "Python 3"
    }
  },
  "cells": [
    {
      "cell_type": "code",
      "metadata": {
        "id": "_SBiaDhAEKCV"
      },
      "source": [
        "import os\n",
        "import pickle\n",
        "import time\n",
        "\n",
        "import matplotlib.pyplot as plt\n",
        "import numpy as np\n",
        "import torch\n",
        "import torch.nn as nn\n",
        "import torchvision.datasets as datasets\n",
        "import torchvision.transforms as transforms\n",
        "from torch.utils.data import DataLoader\n",
        "from tqdm import tqdm\n",
        "import itertools\n",
        "\n",
        "class Generator(nn.Module):\n",
        "    \"\"\"Image generator\n",
        "    \n",
        "    Takes a noise vector as input and syntheses a single channel image accordingly\n",
        "    \"\"\"\n",
        "\n",
        "    def __init__(self, input_dims, output_dims):\n",
        "        \"\"\"Init function\n",
        "        \n",
        "        Declare the network structure as indicated in CW2 Guidance\n",
        "        \n",
        "        Arguments:\n",
        "            input_dims {int} -- Dimension of input noise vector\n",
        "            output_dims {int} -- Dimension of the output vector (flatten image)\n",
        "        \"\"\"\n",
        "        super(Generator, self).__init__()\n",
        "        ###  TODO: Change the architecture and value as CW2 Guidance required\n",
        "        self.fc1 = nn.Sequential(nn.Linear(100, 256), nn.LeakyReLU())\n",
        "        self.fc2 = nn.Sequential(nn.Linear(256, 512), nn.LeakyReLU())\n",
        "        self.fc3 = nn.Sequential(nn.Linear(512, 1024), nn.LeakyReLU())\n",
        "        # output hidden layer\n",
        "        self.fc4 = nn.Sequential(nn.Linear(1024, 784), nn.Tanh())\n",
        "\n",
        "    def forward(self, x):\n",
        "        \"\"\"Forward function\n",
        "        \n",
        "        Arguments:\n",
        "            x {Tensor} -- a batch of noise vectors in shape (<batch_size>x<input_dims>)\n",
        "        \n",
        "        Returns:\n",
        "            Tensor -- a batch of flatten image in shape (<batch_size>x<output_dims>)\n",
        "        \"\"\"\n",
        "        ###  TODO: modify to be consistent with the network structure\n",
        "        x = self.fc1(x)\n",
        "        x = self.fc2(x)\n",
        "        x = self.fc3(x)\n",
        "        x = self.fc4(x)\n",
        "        return x\n",
        "\n",
        "class Discriminator(nn.Module):\n",
        "    \"\"\"Image discriminator\n",
        "    \n",
        "    Takes a image as input and predict if it is real from the dataset or fake synthesised by the generator\n",
        "    \"\"\"\n",
        "\n",
        "    def __init__(self, input_dims, output_dims=1):\n",
        "        \"\"\"Init function\n",
        "        \n",
        "        Declare the discriminator network structure as indicated in CW2 Guidance\n",
        "        \n",
        "        Arguments:\n",
        "            input_dims {int} -- Dimension of the flatten input images\n",
        "        \n",
        "        Keyword Arguments:\n",
        "            output_dims {int} -- Predicted probability (default: {1})\n",
        "        \"\"\"\n",
        "        super(Discriminator, self).__init__()\n",
        "\n",
        "        ###  TODO: Change the architecture and value as CW2 Guidance required\n",
        "        self.fc1 = nn.Sequential(nn.Linear(784, 1024), nn.LeakyReLU(), nn.Dropout(0.3))\n",
        "        self.fc2 = nn.Sequential(nn.Linear(1024, 512), nn.LeakyReLU(), nn.Dropout(0.3))\n",
        "        self.fc3 = nn.Sequential(nn.Linear(512, 256), nn.LeakyReLU(), nn.Dropout(0.3))\n",
        "        self.fc4 = nn.Sequential(nn.Linear(256, 1), nn.Sigmoid())\n",
        "\n",
        "    def forward(self, x):\n",
        "        \"\"\"Forward function\n",
        "        \n",
        "        Arguments:\n",
        "            x {Tensor} -- a batch of 2D image in shape (<batch_size>xHxW)\n",
        "        \n",
        "        Returns:\n",
        "            Tensor -- predicted probabilities (<batch_size>)\n",
        "        \"\"\"\n",
        "        ###  TODO: modify to be consistent with the network structure\n",
        "        x = self.fc1(x)\n",
        "        x = self.fc2(x)\n",
        "        x = self.fc3(x)\n",
        "        x = self.fc4(x)\n",
        "        return x\n",
        "\n",
        "def show_result(G_net, z_, num_epoch, show=False, save=False, path='result.png'):\n",
        "    \"\"\"Result visualisation\n",
        "    \n",
        "    Show and save the generated figures in the grid fashion\n",
        "    \n",
        "    Arguments:\n",
        "        G_net {[nn.Module]} -- The generator instant\n",
        "        z_ {[Tensor]} -- Input noise vectors\n",
        "        num_epoch {[int]} -- Indicate how many epoch has the generator been trained\n",
        "    \n",
        "    Keyword Arguments:\n",
        "        show {bool} -- If to display the images (default: {False})\n",
        "        save {bool} -- If to store the images (default: {False})\n",
        "        path {str} -- path to store the images (default: {'result.png'})\n",
        "    \"\"\" \n",
        "    ###  TODO: complete the rest of part\n",
        "    # hint: use plt.subplots to construct grid\n",
        "    # hint: use plt.imshow and plt.savefig to display and store the images\n",
        "    z_ = torch.randn((25, 100))\n",
        "    test_image_data = G_net(z_)\n",
        "    grid_axis_size = 5\n",
        "    fig,axis = plt.subplots(grid_axis_size, grid_axis_size, figsize=(5, 5))\n",
        "    for i, j in itertools.product(range(grid_axis_size), range(grid_axis_size)):\n",
        "        axis[i, j].get_xaxis().set_visible(False)\n",
        "        axis[i, j].get_yaxis().set_visible(False)\n",
        "\n",
        "    for x in range(5*5):\n",
        "        i = x // 5\n",
        "        j = x % 5\n",
        "        axis[i, j].cla()\n",
        "        axis[i, j].imshow(test_image_data[x, :].cpu().data.view(28, 28).numpy(), cmap='gray')\n",
        "\n",
        "    fig.text(0.5, 0.05, 'Epoch %s'%num_epoch, ha='center')\n",
        "    if save:\n",
        "        plt.savefig(path)\n",
        "    if show:\n",
        "        plt.show()\n",
        "    else:\n",
        "        plt.close()\n",
        "\n",
        "def show_train_hist(hist, show=False, save=False, path='Train_hist.png'):\n",
        "    \"\"\"Loss tracker\n",
        "    \n",
        "    Plot the losses of generator and discriminator independently to see the trend\n",
        "    \n",
        "    Arguments:\n",
        "        hist {[dict]} -- Tracking variables\n",
        "    \n",
        "    Keyword Arguments:\n",
        "        show {bool} -- If to display the figure (default: {False})\n",
        "        save {bool} -- If to store the figure (default: {False})\n",
        "        path {str} -- path to store the figure (default: {'Train_hist.png'})\n",
        "    \"\"\"\n",
        "    x = range(len(hist['D_losses']))\n",
        "\n",
        "    y1 = hist['D_losses']\n",
        "    y2 = hist['G_losses']\n",
        "\n",
        "    plt.plot(x, y1, label='D_loss')\n",
        "    plt.plot(x, y2, label='G_loss')\n",
        "\n",
        "    plt.xlabel('Epoch')\n",
        "    plt.ylabel('Loss')\n",
        "\n",
        "    plt.legend(loc=4)\n",
        "    plt.grid(True)\n",
        "    plt.tight_layout()\n",
        "\n",
        "    if save:\n",
        "        plt.savefig(path)\n",
        "\n",
        "    if show:\n",
        "        plt.show()\n",
        "    else:\n",
        "        plt.close()\n",
        "\n",
        "def create_noise(num, dim):\n",
        "    \"\"\"Noise constructor\n",
        "    \n",
        "    returns a tensor filled with random numbers from a standard normal distribution\n",
        "    \n",
        "    Arguments:\n",
        "        num {int} -- Number of vectors\n",
        "        dim {int} -- Dimension of vectors\n",
        "    \n",
        "    Returns:\n",
        "        [Tensor] -- the generated noise vector batch\n",
        "    \"\"\"\n",
        "    return torch.randn(num, dim)"
      ],
      "execution_count": 1,
      "outputs": []
    },
    {
      "cell_type": "code",
      "metadata": {
        "colab": {
          "base_uri": "https://localhost:8080/"
        },
        "id": "9hPforLkK6k8",
        "outputId": "cbcb84e3-e717-4fa0-c99b-659f2bfa285d"
      },
      "source": [
        "if __name__ == '__main__':\n",
        "    from six.moves import urllib\n",
        "    opener = urllib.request.build_opener()\n",
        "    opener.addheaders = [('User-agent', 'Mozilla/5.0')]\n",
        "    urllib.request.install_opener(opener)\n",
        "\n",
        "    # initialise the device for training, if gpu is available, device = 'cuda', else: device = 'cpu'\n",
        "    device = torch.device('cuda' if torch.cuda.is_available() else 'cpu')\n",
        "    data_dir = './MNIST_data/'\n",
        "    save_dir = './MNIST_GAN_results/'\n",
        "    image_save_dir = './MNIST_GAN_results/results'\n",
        "\n",
        "    # create folder if not exist\n",
        "    if not os.path.exists(save_dir):\n",
        "        os.mkdir(save_dir)\n",
        "    if not os.path.exists(image_save_dir):\n",
        "        os.mkdir(image_save_dir)\n",
        "\n",
        "    # training parameters\n",
        "    batch_size = 100\n",
        "    learning_rate = 0.0002\n",
        "    epochs = 100\n",
        "\n",
        "    # parameters for Models\n",
        "    image_size = 28\n",
        "    G_input_dim = 100\n",
        "    G_output_dim = image_size * image_size\n",
        "    D_input_dim = image_size * image_size\n",
        "    D_output_dim = 1\n",
        "\n",
        "    # construct the dataset and data loader\n",
        "    transform = transforms.Compose([transforms.ToTensor(),\n",
        "                                    transforms.Normalize(mean=(0.5,), std=(0.5,))])\n",
        "    train_data = datasets.MNIST(root=data_dir, train=True, transform=transform, download=True)\n",
        "    train_loader = DataLoader(dataset=train_data, batch_size=batch_size, shuffle=True)\n",
        "\n",
        "    # declare the generator and discriminator networks    \n",
        "    G_net = Generator(G_input_dim, G_output_dim).to(device)\n",
        "    D_net = Discriminator(D_input_dim, D_output_dim).to(device)\n",
        "\n",
        "    # Binary Cross Entropy Loss function\n",
        "    criterion = nn.BCELoss().to(device)\n",
        "\n",
        "    # Initialise the Optimizers\n",
        "    G_optimizer = torch.optim.Adam(G_net.parameters(), lr=learning_rate)\n",
        "    D_optimizer = torch.optim.Adam(D_net.parameters(), lr=learning_rate)\n",
        "\n",
        "    # tracking variables\n",
        "    train_hist = {}\n",
        "    train_hist['D_losses'] = []\n",
        "    train_hist['G_losses'] = []\n",
        "    train_hist['per_epoch_ptimes'] = []\n",
        "    train_hist['total_ptime'] = []\n",
        "\n",
        "    start_time = time.time()\n",
        "    # training loop\n",
        "    for epoch in range(epochs):\n",
        "        G_net.train()\n",
        "        D_net.train()\n",
        "        Loss_G = []\n",
        "        Loss_D = []\n",
        "        epoch_start_time = time.time()\n",
        "        for (image, _) in tqdm(train_loader):\n",
        "            image = image.to(device)\n",
        "            b_size = len(image)\n",
        "            # creat real and fake labels\n",
        "            real_label = torch.ones(b_size, 1).to(device)\n",
        "            fake_label = torch.zeros(b_size, 1).to(device)\n",
        "\n",
        "            # generate fake images \n",
        "            data_fake = G_net(create_noise(b_size, G_input_dim).to(device))\n",
        "            data_real = image.view(b_size, D_input_dim)\n",
        "\n",
        "            # --------train the discriminator network----------\n",
        "            # compute the loss for real and fake images\n",
        "            output_real = D_net(data_real)\n",
        "            output_fake = D_net(data_fake)\n",
        "            loss_real = criterion(output_real, real_label)\n",
        "            loss_fake = criterion(output_fake, fake_label)\n",
        "            loss_d = loss_real + loss_fake\n",
        "\n",
        "            # back propagation\n",
        "            D_optimizer.zero_grad()\n",
        "            loss_d.backward()\n",
        "            D_optimizer.step()\n",
        "\n",
        "            # -------- train the generator network-----------\n",
        "            data_fake = G_net(create_noise(b_size, G_input_dim).to(device))\n",
        "\n",
        "            # compute the loss for generator network\n",
        "            output_fake = D_net(data_fake)\n",
        "            loss_g = criterion(output_fake, real_label)\n",
        "\n",
        "            ## back propagation\n",
        "            G_optimizer.zero_grad()\n",
        "            loss_g.backward()\n",
        "            G_optimizer.step()\n",
        "\n",
        "            ## store the loss of each iter\n",
        "            Loss_D.append(loss_d.item())\n",
        "            Loss_G.append(loss_g.item())\n",
        "\n",
        "        epoch_loss_g = np.mean(Loss_G)  # mean generator loss for the epoch\n",
        "        epoch_loss_d = np.mean(Loss_D)  # mean discriminator loss for the epoch\n",
        "        epoch_end_time = time.time()\n",
        "        per_epoch_ptime = epoch_end_time - epoch_start_time\n",
        "\n",
        "        print(\"Epoch %d of %d with %.2f s\" % (epoch + 1, epochs, per_epoch_ptime))\n",
        "        print(\"Generator loss: %.8f, Discriminator loss: %.8f\" % (epoch_loss_g, epoch_loss_d))\n",
        "\n",
        "        path = image_save_dir + '/MNIST_GAN_' + str(epoch + 1) + '.png'\n",
        "        show_result(G_net, create_noise(25, 100).to(device), (epoch + 1), save=True, path=path)\n",
        "\n",
        "        # record the loss for every epoch\n",
        "        train_hist['G_losses'].append(epoch_loss_g)\n",
        "        train_hist['D_losses'].append(epoch_loss_d)\n",
        "        train_hist['per_epoch_ptimes'].append(per_epoch_ptime)\n",
        "\n",
        "    end_time = time.time()\n",
        "    total_ptime = end_time - start_time\n",
        "    train_hist['total_ptime'].append(total_ptime)\n",
        "\n",
        "    print('Avg per epoch ptime: %.2f, total %d epochs ptime: %.2f' % (\n",
        "        np.mean(train_hist['per_epoch_ptimes']), epochs, total_ptime))\n",
        "    print(\"Training finish!... save training results\")\n",
        "    with open(save_dir + '/train_hist.pkl', 'wb') as f:\n",
        "        pickle.dump(train_hist, f)\n",
        "    show_train_hist(train_hist, save=True, path=save_dir + '/MNIST_GAN_train_hist.png')\n"
      ],
      "execution_count": 2,
      "outputs": [
        {
          "output_type": "stream",
          "text": [
            "100%|██████████| 600/600 [01:16<00:00,  7.81it/s]\n"
          ],
          "name": "stderr"
        },
        {
          "output_type": "stream",
          "text": [
            "Epoch 1 of 100 with 76.78 s\n",
            "Generator loss: 4.53266931, Discriminator loss: 0.44998810\n"
          ],
          "name": "stdout"
        },
        {
          "output_type": "stream",
          "text": [
            "100%|██████████| 600/600 [01:16<00:00,  7.81it/s]\n"
          ],
          "name": "stderr"
        },
        {
          "output_type": "stream",
          "text": [
            "Epoch 2 of 100 with 76.79 s\n",
            "Generator loss: 3.92686808, Discriminator loss: 0.19201028\n"
          ],
          "name": "stdout"
        },
        {
          "output_type": "stream",
          "text": [
            "100%|██████████| 600/600 [01:17<00:00,  7.78it/s]\n"
          ],
          "name": "stderr"
        },
        {
          "output_type": "stream",
          "text": [
            "Epoch 3 of 100 with 77.14 s\n",
            "Generator loss: 5.07477446, Discriminator loss: 0.11858227\n"
          ],
          "name": "stdout"
        },
        {
          "output_type": "stream",
          "text": [
            "100%|██████████| 600/600 [01:17<00:00,  7.75it/s]\n"
          ],
          "name": "stderr"
        },
        {
          "output_type": "stream",
          "text": [
            "Epoch 4 of 100 with 77.42 s\n",
            "Generator loss: 5.50134361, Discriminator loss: 0.10905663\n"
          ],
          "name": "stdout"
        },
        {
          "output_type": "stream",
          "text": [
            "100%|██████████| 600/600 [01:17<00:00,  7.72it/s]\n"
          ],
          "name": "stderr"
        },
        {
          "output_type": "stream",
          "text": [
            "Epoch 5 of 100 with 77.70 s\n",
            "Generator loss: 5.42925244, Discriminator loss: 0.10811449\n"
          ],
          "name": "stdout"
        },
        {
          "output_type": "stream",
          "text": [
            "100%|██████████| 600/600 [01:17<00:00,  7.70it/s]\n"
          ],
          "name": "stderr"
        },
        {
          "output_type": "stream",
          "text": [
            "Epoch 6 of 100 with 77.91 s\n",
            "Generator loss: 6.00961454, Discriminator loss: 0.09297239\n"
          ],
          "name": "stdout"
        },
        {
          "output_type": "stream",
          "text": [
            "100%|██████████| 600/600 [01:18<00:00,  7.69it/s]\n"
          ],
          "name": "stderr"
        },
        {
          "output_type": "stream",
          "text": [
            "Epoch 7 of 100 with 78.02 s\n",
            "Generator loss: 5.07114237, Discriminator loss: 0.14521971\n"
          ],
          "name": "stdout"
        },
        {
          "output_type": "stream",
          "text": [
            "100%|██████████| 600/600 [01:17<00:00,  7.71it/s]\n"
          ],
          "name": "stderr"
        },
        {
          "output_type": "stream",
          "text": [
            "Epoch 8 of 100 with 77.81 s\n",
            "Generator loss: 4.74926357, Discriminator loss: 0.17054367\n"
          ],
          "name": "stdout"
        },
        {
          "output_type": "stream",
          "text": [
            "100%|██████████| 600/600 [01:17<00:00,  7.77it/s]\n"
          ],
          "name": "stderr"
        },
        {
          "output_type": "stream",
          "text": [
            "Epoch 9 of 100 with 77.18 s\n",
            "Generator loss: 4.32878523, Discriminator loss: 0.21941294\n"
          ],
          "name": "stdout"
        },
        {
          "output_type": "stream",
          "text": [
            "100%|██████████| 600/600 [01:17<00:00,  7.79it/s]\n"
          ],
          "name": "stderr"
        },
        {
          "output_type": "stream",
          "text": [
            "Epoch 10 of 100 with 77.04 s\n",
            "Generator loss: 3.55894500, Discriminator loss: 0.28532293\n"
          ],
          "name": "stdout"
        },
        {
          "output_type": "stream",
          "text": [
            "100%|██████████| 600/600 [01:17<00:00,  7.77it/s]\n"
          ],
          "name": "stderr"
        },
        {
          "output_type": "stream",
          "text": [
            "Epoch 11 of 100 with 77.26 s\n",
            "Generator loss: 3.01489383, Discriminator loss: 0.37695030\n"
          ],
          "name": "stdout"
        },
        {
          "output_type": "stream",
          "text": [
            "100%|██████████| 600/600 [01:17<00:00,  7.74it/s]\n"
          ],
          "name": "stderr"
        },
        {
          "output_type": "stream",
          "text": [
            "Epoch 12 of 100 with 77.52 s\n",
            "Generator loss: 2.58282214, Discriminator loss: 0.46844942\n"
          ],
          "name": "stdout"
        },
        {
          "output_type": "stream",
          "text": [
            "100%|██████████| 600/600 [01:17<00:00,  7.73it/s]\n"
          ],
          "name": "stderr"
        },
        {
          "output_type": "stream",
          "text": [
            "Epoch 13 of 100 with 77.63 s\n",
            "Generator loss: 2.51589302, Discriminator loss: 0.48590515\n"
          ],
          "name": "stdout"
        },
        {
          "output_type": "stream",
          "text": [
            "100%|██████████| 600/600 [01:17<00:00,  7.72it/s]\n"
          ],
          "name": "stderr"
        },
        {
          "output_type": "stream",
          "text": [
            "Epoch 14 of 100 with 77.70 s\n",
            "Generator loss: 2.43668113, Discriminator loss: 0.51944951\n"
          ],
          "name": "stdout"
        },
        {
          "output_type": "stream",
          "text": [
            "100%|██████████| 600/600 [01:17<00:00,  7.75it/s]\n"
          ],
          "name": "stderr"
        },
        {
          "output_type": "stream",
          "text": [
            "Epoch 15 of 100 with 77.41 s\n",
            "Generator loss: 2.34928025, Discriminator loss: 0.56157543\n"
          ],
          "name": "stdout"
        },
        {
          "output_type": "stream",
          "text": [
            "100%|██████████| 600/600 [01:17<00:00,  7.75it/s]\n"
          ],
          "name": "stderr"
        },
        {
          "output_type": "stream",
          "text": [
            "Epoch 16 of 100 with 77.46 s\n",
            "Generator loss: 2.15444152, Discriminator loss: 0.60134364\n"
          ],
          "name": "stdout"
        },
        {
          "output_type": "stream",
          "text": [
            "100%|██████████| 600/600 [01:17<00:00,  7.72it/s]\n"
          ],
          "name": "stderr"
        },
        {
          "output_type": "stream",
          "text": [
            "Epoch 17 of 100 with 77.74 s\n",
            "Generator loss: 1.99428663, Discriminator loss: 0.67371606\n"
          ],
          "name": "stdout"
        },
        {
          "output_type": "stream",
          "text": [
            "100%|██████████| 600/600 [01:17<00:00,  7.71it/s]\n"
          ],
          "name": "stderr"
        },
        {
          "output_type": "stream",
          "text": [
            "Epoch 18 of 100 with 77.80 s\n",
            "Generator loss: 1.91172338, Discriminator loss: 0.70473344\n"
          ],
          "name": "stdout"
        },
        {
          "output_type": "stream",
          "text": [
            "100%|██████████| 600/600 [01:17<00:00,  7.72it/s]\n"
          ],
          "name": "stderr"
        },
        {
          "output_type": "stream",
          "text": [
            "Epoch 19 of 100 with 77.75 s\n",
            "Generator loss: 1.78434816, Discriminator loss: 0.74110791\n"
          ],
          "name": "stdout"
        },
        {
          "output_type": "stream",
          "text": [
            "100%|██████████| 600/600 [01:17<00:00,  7.71it/s]\n"
          ],
          "name": "stderr"
        },
        {
          "output_type": "stream",
          "text": [
            "Epoch 20 of 100 with 77.83 s\n",
            "Generator loss: 1.72811469, Discriminator loss: 0.77899880\n"
          ],
          "name": "stdout"
        },
        {
          "output_type": "stream",
          "text": [
            "100%|██████████| 600/600 [01:17<00:00,  7.70it/s]\n"
          ],
          "name": "stderr"
        },
        {
          "output_type": "stream",
          "text": [
            "Epoch 21 of 100 with 77.97 s\n",
            "Generator loss: 1.67772008, Discriminator loss: 0.80194655\n"
          ],
          "name": "stdout"
        },
        {
          "output_type": "stream",
          "text": [
            "100%|██████████| 600/600 [01:17<00:00,  7.77it/s]\n"
          ],
          "name": "stderr"
        },
        {
          "output_type": "stream",
          "text": [
            "Epoch 22 of 100 with 77.25 s\n",
            "Generator loss: 1.67311703, Discriminator loss: 0.81058388\n"
          ],
          "name": "stdout"
        },
        {
          "output_type": "stream",
          "text": [
            "100%|██████████| 600/600 [01:17<00:00,  7.76it/s]\n"
          ],
          "name": "stderr"
        },
        {
          "output_type": "stream",
          "text": [
            "Epoch 23 of 100 with 77.35 s\n",
            "Generator loss: 1.55058867, Discriminator loss: 0.86881679\n"
          ],
          "name": "stdout"
        },
        {
          "output_type": "stream",
          "text": [
            "100%|██████████| 600/600 [01:16<00:00,  7.79it/s]\n"
          ],
          "name": "stderr"
        },
        {
          "output_type": "stream",
          "text": [
            "Epoch 24 of 100 with 76.99 s\n",
            "Generator loss: 1.53356979, Discriminator loss: 0.86697375\n"
          ],
          "name": "stdout"
        },
        {
          "output_type": "stream",
          "text": [
            "100%|██████████| 600/600 [01:16<00:00,  7.79it/s]\n"
          ],
          "name": "stderr"
        },
        {
          "output_type": "stream",
          "text": [
            "Epoch 25 of 100 with 76.98 s\n",
            "Generator loss: 1.44912057, Discriminator loss: 0.91078518\n"
          ],
          "name": "stdout"
        },
        {
          "output_type": "stream",
          "text": [
            "100%|██████████| 600/600 [01:17<00:00,  7.78it/s]\n"
          ],
          "name": "stderr"
        },
        {
          "output_type": "stream",
          "text": [
            "Epoch 26 of 100 with 77.17 s\n",
            "Generator loss: 1.42778920, Discriminator loss: 0.92445890\n"
          ],
          "name": "stdout"
        },
        {
          "output_type": "stream",
          "text": [
            "100%|██████████| 600/600 [01:17<00:00,  7.70it/s]\n"
          ],
          "name": "stderr"
        },
        {
          "output_type": "stream",
          "text": [
            "Epoch 27 of 100 with 77.94 s\n",
            "Generator loss: 1.37700590, Discriminator loss: 0.95206611\n"
          ],
          "name": "stdout"
        },
        {
          "output_type": "stream",
          "text": [
            "100%|██████████| 600/600 [01:17<00:00,  7.73it/s]\n"
          ],
          "name": "stderr"
        },
        {
          "output_type": "stream",
          "text": [
            "Epoch 28 of 100 with 77.58 s\n",
            "Generator loss: 1.36148540, Discriminator loss: 0.96411412\n"
          ],
          "name": "stdout"
        },
        {
          "output_type": "stream",
          "text": [
            "100%|██████████| 600/600 [01:17<00:00,  7.73it/s]\n"
          ],
          "name": "stderr"
        },
        {
          "output_type": "stream",
          "text": [
            "Epoch 29 of 100 with 77.66 s\n",
            "Generator loss: 1.33951055, Discriminator loss: 0.97076615\n"
          ],
          "name": "stdout"
        },
        {
          "output_type": "stream",
          "text": [
            "100%|██████████| 600/600 [01:17<00:00,  7.76it/s]\n"
          ],
          "name": "stderr"
        },
        {
          "output_type": "stream",
          "text": [
            "Epoch 30 of 100 with 77.36 s\n",
            "Generator loss: 1.32492812, Discriminator loss: 0.98337028\n"
          ],
          "name": "stdout"
        },
        {
          "output_type": "stream",
          "text": [
            "100%|██████████| 600/600 [01:17<00:00,  7.76it/s]\n"
          ],
          "name": "stderr"
        },
        {
          "output_type": "stream",
          "text": [
            "Epoch 31 of 100 with 77.30 s\n",
            "Generator loss: 1.32707852, Discriminator loss: 0.97991546\n"
          ],
          "name": "stdout"
        },
        {
          "output_type": "stream",
          "text": [
            "100%|██████████| 600/600 [01:17<00:00,  7.69it/s]\n"
          ],
          "name": "stderr"
        },
        {
          "output_type": "stream",
          "text": [
            "Epoch 32 of 100 with 77.98 s\n",
            "Generator loss: 1.29946399, Discriminator loss: 1.00790403\n"
          ],
          "name": "stdout"
        },
        {
          "output_type": "stream",
          "text": [
            "100%|██████████| 600/600 [01:17<00:00,  7.70it/s]\n"
          ],
          "name": "stderr"
        },
        {
          "output_type": "stream",
          "text": [
            "Epoch 33 of 100 with 77.97 s\n",
            "Generator loss: 1.26831924, Discriminator loss: 1.01129465\n"
          ],
          "name": "stdout"
        },
        {
          "output_type": "stream",
          "text": [
            "100%|██████████| 600/600 [01:17<00:00,  7.73it/s]\n"
          ],
          "name": "stderr"
        },
        {
          "output_type": "stream",
          "text": [
            "Epoch 34 of 100 with 77.65 s\n",
            "Generator loss: 1.29640167, Discriminator loss: 1.00860204\n"
          ],
          "name": "stdout"
        },
        {
          "output_type": "stream",
          "text": [
            "100%|██████████| 600/600 [01:17<00:00,  7.71it/s]\n"
          ],
          "name": "stderr"
        },
        {
          "output_type": "stream",
          "text": [
            "Epoch 35 of 100 with 77.86 s\n",
            "Generator loss: 1.25612559, Discriminator loss: 1.02440157\n"
          ],
          "name": "stdout"
        },
        {
          "output_type": "stream",
          "text": [
            "100%|██████████| 600/600 [01:17<00:00,  7.74it/s]\n"
          ],
          "name": "stderr"
        },
        {
          "output_type": "stream",
          "text": [
            "Epoch 36 of 100 with 77.51 s\n",
            "Generator loss: 1.22647290, Discriminator loss: 1.03620048\n"
          ],
          "name": "stdout"
        },
        {
          "output_type": "stream",
          "text": [
            "100%|██████████| 600/600 [01:17<00:00,  7.72it/s]\n"
          ],
          "name": "stderr"
        },
        {
          "output_type": "stream",
          "text": [
            "Epoch 37 of 100 with 77.72 s\n",
            "Generator loss: 1.22257889, Discriminator loss: 1.04245647\n"
          ],
          "name": "stdout"
        },
        {
          "output_type": "stream",
          "text": [
            "100%|██████████| 600/600 [01:17<00:00,  7.73it/s]\n"
          ],
          "name": "stderr"
        },
        {
          "output_type": "stream",
          "text": [
            "Epoch 38 of 100 with 77.61 s\n",
            "Generator loss: 1.23301971, Discriminator loss: 1.04430601\n"
          ],
          "name": "stdout"
        },
        {
          "output_type": "stream",
          "text": [
            "100%|██████████| 600/600 [01:17<00:00,  7.75it/s]\n"
          ],
          "name": "stderr"
        },
        {
          "output_type": "stream",
          "text": [
            "Epoch 39 of 100 with 77.38 s\n",
            "Generator loss: 1.20654446, Discriminator loss: 1.05599368\n"
          ],
          "name": "stdout"
        },
        {
          "output_type": "stream",
          "text": [
            "100%|██████████| 600/600 [01:17<00:00,  7.78it/s]\n"
          ],
          "name": "stderr"
        },
        {
          "output_type": "stream",
          "text": [
            "Epoch 40 of 100 with 77.09 s\n",
            "Generator loss: 1.17125732, Discriminator loss: 1.07186818\n"
          ],
          "name": "stdout"
        },
        {
          "output_type": "stream",
          "text": [
            "100%|██████████| 600/600 [01:16<00:00,  7.80it/s]\n"
          ],
          "name": "stderr"
        },
        {
          "output_type": "stream",
          "text": [
            "Epoch 41 of 100 with 76.90 s\n",
            "Generator loss: 1.19611364, Discriminator loss: 1.06120905\n"
          ],
          "name": "stdout"
        },
        {
          "output_type": "stream",
          "text": [
            "100%|██████████| 600/600 [01:17<00:00,  7.77it/s]\n"
          ],
          "name": "stderr"
        },
        {
          "output_type": "stream",
          "text": [
            "Epoch 42 of 100 with 77.26 s\n",
            "Generator loss: 1.15960331, Discriminator loss: 1.07680428\n"
          ],
          "name": "stdout"
        },
        {
          "output_type": "stream",
          "text": [
            "100%|██████████| 600/600 [01:16<00:00,  7.80it/s]\n"
          ],
          "name": "stderr"
        },
        {
          "output_type": "stream",
          "text": [
            "Epoch 43 of 100 with 76.96 s\n",
            "Generator loss: 1.14639655, Discriminator loss: 1.09411365\n"
          ],
          "name": "stdout"
        },
        {
          "output_type": "stream",
          "text": [
            "100%|██████████| 600/600 [01:17<00:00,  7.78it/s]\n"
          ],
          "name": "stderr"
        },
        {
          "output_type": "stream",
          "text": [
            "Epoch 44 of 100 with 77.14 s\n",
            "Generator loss: 1.15233972, Discriminator loss: 1.08668800\n"
          ],
          "name": "stdout"
        },
        {
          "output_type": "stream",
          "text": [
            "100%|██████████| 600/600 [01:17<00:00,  7.70it/s]\n"
          ],
          "name": "stderr"
        },
        {
          "output_type": "stream",
          "text": [
            "Epoch 45 of 100 with 77.92 s\n",
            "Generator loss: 1.13559765, Discriminator loss: 1.09833669\n"
          ],
          "name": "stdout"
        },
        {
          "output_type": "stream",
          "text": [
            "100%|██████████| 600/600 [01:17<00:00,  7.71it/s]\n"
          ],
          "name": "stderr"
        },
        {
          "output_type": "stream",
          "text": [
            "Epoch 46 of 100 with 77.85 s\n",
            "Generator loss: 1.14642489, Discriminator loss: 1.09202871\n"
          ],
          "name": "stdout"
        },
        {
          "output_type": "stream",
          "text": [
            "100%|██████████| 600/600 [01:17<00:00,  7.70it/s]\n"
          ],
          "name": "stderr"
        },
        {
          "output_type": "stream",
          "text": [
            "Epoch 47 of 100 with 77.91 s\n",
            "Generator loss: 1.12331742, Discriminator loss: 1.10850534\n"
          ],
          "name": "stdout"
        },
        {
          "output_type": "stream",
          "text": [
            "100%|██████████| 600/600 [01:18<00:00,  7.69it/s]\n"
          ],
          "name": "stderr"
        },
        {
          "output_type": "stream",
          "text": [
            "Epoch 48 of 100 with 78.01 s\n",
            "Generator loss: 1.10481184, Discriminator loss: 1.11880426\n"
          ],
          "name": "stdout"
        },
        {
          "output_type": "stream",
          "text": [
            "100%|██████████| 600/600 [01:17<00:00,  7.72it/s]\n"
          ],
          "name": "stderr"
        },
        {
          "output_type": "stream",
          "text": [
            "Epoch 49 of 100 with 77.71 s\n",
            "Generator loss: 1.10021234, Discriminator loss: 1.12252403\n"
          ],
          "name": "stdout"
        },
        {
          "output_type": "stream",
          "text": [
            "100%|██████████| 600/600 [01:17<00:00,  7.77it/s]\n"
          ],
          "name": "stderr"
        },
        {
          "output_type": "stream",
          "text": [
            "Epoch 50 of 100 with 77.23 s\n",
            "Generator loss: 1.10785353, Discriminator loss: 1.11993166\n"
          ],
          "name": "stdout"
        },
        {
          "output_type": "stream",
          "text": [
            "100%|██████████| 600/600 [01:16<00:00,  7.81it/s]\n"
          ],
          "name": "stderr"
        },
        {
          "output_type": "stream",
          "text": [
            "Epoch 51 of 100 with 76.84 s\n",
            "Generator loss: 1.09462638, Discriminator loss: 1.12296774\n"
          ],
          "name": "stdout"
        },
        {
          "output_type": "stream",
          "text": [
            "100%|██████████| 600/600 [01:17<00:00,  7.77it/s]\n"
          ],
          "name": "stderr"
        },
        {
          "output_type": "stream",
          "text": [
            "Epoch 52 of 100 with 77.19 s\n",
            "Generator loss: 1.07491792, Discriminator loss: 1.13833874\n"
          ],
          "name": "stdout"
        },
        {
          "output_type": "stream",
          "text": [
            "100%|██████████| 600/600 [01:18<00:00,  7.67it/s]\n"
          ],
          "name": "stderr"
        },
        {
          "output_type": "stream",
          "text": [
            "Epoch 53 of 100 with 78.18 s\n",
            "Generator loss: 1.06881200, Discriminator loss: 1.14264184\n"
          ],
          "name": "stdout"
        },
        {
          "output_type": "stream",
          "text": [
            "100%|██████████| 600/600 [01:18<00:00,  7.67it/s]\n"
          ],
          "name": "stderr"
        },
        {
          "output_type": "stream",
          "text": [
            "Epoch 54 of 100 with 78.25 s\n",
            "Generator loss: 1.07383634, Discriminator loss: 1.13901423\n"
          ],
          "name": "stdout"
        },
        {
          "output_type": "stream",
          "text": [
            "100%|██████████| 600/600 [01:17<00:00,  7.71it/s]\n"
          ],
          "name": "stderr"
        },
        {
          "output_type": "stream",
          "text": [
            "Epoch 55 of 100 with 77.87 s\n",
            "Generator loss: 1.05167111, Discriminator loss: 1.14812121\n"
          ],
          "name": "stdout"
        },
        {
          "output_type": "stream",
          "text": [
            "100%|██████████| 600/600 [01:17<00:00,  7.72it/s]\n"
          ],
          "name": "stderr"
        },
        {
          "output_type": "stream",
          "text": [
            "Epoch 56 of 100 with 77.71 s\n",
            "Generator loss: 1.04502875, Discriminator loss: 1.15477383\n"
          ],
          "name": "stdout"
        },
        {
          "output_type": "stream",
          "text": [
            "100%|██████████| 600/600 [01:17<00:00,  7.73it/s]\n"
          ],
          "name": "stderr"
        },
        {
          "output_type": "stream",
          "text": [
            "Epoch 57 of 100 with 77.63 s\n",
            "Generator loss: 1.04658745, Discriminator loss: 1.15481995\n"
          ],
          "name": "stdout"
        },
        {
          "output_type": "stream",
          "text": [
            "100%|██████████| 600/600 [01:17<00:00,  7.77it/s]\n"
          ],
          "name": "stderr"
        },
        {
          "output_type": "stream",
          "text": [
            "Epoch 58 of 100 with 77.25 s\n",
            "Generator loss: 1.04459817, Discriminator loss: 1.15376525\n"
          ],
          "name": "stdout"
        },
        {
          "output_type": "stream",
          "text": [
            "100%|██████████| 600/600 [01:18<00:00,  7.69it/s]\n"
          ],
          "name": "stderr"
        },
        {
          "output_type": "stream",
          "text": [
            "Epoch 59 of 100 with 78.00 s\n",
            "Generator loss: 1.03149108, Discriminator loss: 1.16267759\n"
          ],
          "name": "stdout"
        },
        {
          "output_type": "stream",
          "text": [
            "100%|██████████| 600/600 [01:18<00:00,  7.69it/s]\n"
          ],
          "name": "stderr"
        },
        {
          "output_type": "stream",
          "text": [
            "Epoch 60 of 100 with 78.06 s\n",
            "Generator loss: 1.03883984, Discriminator loss: 1.16328258\n"
          ],
          "name": "stdout"
        },
        {
          "output_type": "stream",
          "text": [
            "100%|██████████| 600/600 [01:18<00:00,  7.68it/s]\n"
          ],
          "name": "stderr"
        },
        {
          "output_type": "stream",
          "text": [
            "Epoch 61 of 100 with 78.15 s\n",
            "Generator loss: 1.04237982, Discriminator loss: 1.16139415\n"
          ],
          "name": "stdout"
        },
        {
          "output_type": "stream",
          "text": [
            "100%|██████████| 600/600 [01:17<00:00,  7.75it/s]\n"
          ],
          "name": "stderr"
        },
        {
          "output_type": "stream",
          "text": [
            "Epoch 62 of 100 with 77.42 s\n",
            "Generator loss: 1.02681205, Discriminator loss: 1.16698715\n"
          ],
          "name": "stdout"
        },
        {
          "output_type": "stream",
          "text": [
            "100%|██████████| 600/600 [01:17<00:00,  7.72it/s]\n"
          ],
          "name": "stderr"
        },
        {
          "output_type": "stream",
          "text": [
            "Epoch 63 of 100 with 77.73 s\n",
            "Generator loss: 1.02766046, Discriminator loss: 1.16504496\n"
          ],
          "name": "stdout"
        },
        {
          "output_type": "stream",
          "text": [
            "100%|██████████| 600/600 [01:18<00:00,  7.66it/s]\n"
          ],
          "name": "stderr"
        },
        {
          "output_type": "stream",
          "text": [
            "Epoch 64 of 100 with 78.31 s\n",
            "Generator loss: 1.00672773, Discriminator loss: 1.17714634\n"
          ],
          "name": "stdout"
        },
        {
          "output_type": "stream",
          "text": [
            "100%|██████████| 600/600 [01:18<00:00,  7.67it/s]\n"
          ],
          "name": "stderr"
        },
        {
          "output_type": "stream",
          "text": [
            "Epoch 65 of 100 with 78.26 s\n",
            "Generator loss: 1.00613566, Discriminator loss: 1.18174248\n"
          ],
          "name": "stdout"
        },
        {
          "output_type": "stream",
          "text": [
            "100%|██████████| 600/600 [01:18<00:00,  7.68it/s]\n"
          ],
          "name": "stderr"
        },
        {
          "output_type": "stream",
          "text": [
            "Epoch 66 of 100 with 78.08 s\n",
            "Generator loss: 1.00984414, Discriminator loss: 1.17736393\n"
          ],
          "name": "stdout"
        },
        {
          "output_type": "stream",
          "text": [
            "100%|██████████| 600/600 [01:18<00:00,  7.67it/s]\n"
          ],
          "name": "stderr"
        },
        {
          "output_type": "stream",
          "text": [
            "Epoch 67 of 100 with 78.18 s\n",
            "Generator loss: 1.00725248, Discriminator loss: 1.17717572\n"
          ],
          "name": "stdout"
        },
        {
          "output_type": "stream",
          "text": [
            "100%|██████████| 600/600 [01:17<00:00,  7.78it/s]\n"
          ],
          "name": "stderr"
        },
        {
          "output_type": "stream",
          "text": [
            "Epoch 68 of 100 with 77.08 s\n",
            "Generator loss: 1.01671292, Discriminator loss: 1.17409529\n"
          ],
          "name": "stdout"
        },
        {
          "output_type": "stream",
          "text": [
            "100%|██████████| 600/600 [01:17<00:00,  7.72it/s]\n"
          ],
          "name": "stderr"
        },
        {
          "output_type": "stream",
          "text": [
            "Epoch 69 of 100 with 77.75 s\n",
            "Generator loss: 1.02595560, Discriminator loss: 1.17058309\n"
          ],
          "name": "stdout"
        },
        {
          "output_type": "stream",
          "text": [
            "100%|██████████| 600/600 [01:17<00:00,  7.73it/s]\n"
          ],
          "name": "stderr"
        },
        {
          "output_type": "stream",
          "text": [
            "Epoch 70 of 100 with 77.63 s\n",
            "Generator loss: 1.00904052, Discriminator loss: 1.18209811\n"
          ],
          "name": "stdout"
        },
        {
          "output_type": "stream",
          "text": [
            "100%|██████████| 600/600 [01:17<00:00,  7.76it/s]\n"
          ],
          "name": "stderr"
        },
        {
          "output_type": "stream",
          "text": [
            "Epoch 71 of 100 with 77.33 s\n",
            "Generator loss: 1.01052739, Discriminator loss: 1.17558775\n"
          ],
          "name": "stdout"
        },
        {
          "output_type": "stream",
          "text": [
            "100%|██████████| 600/600 [01:17<00:00,  7.79it/s]\n"
          ],
          "name": "stderr"
        },
        {
          "output_type": "stream",
          "text": [
            "Epoch 72 of 100 with 77.02 s\n",
            "Generator loss: 1.01281752, Discriminator loss: 1.17616886\n"
          ],
          "name": "stdout"
        },
        {
          "output_type": "stream",
          "text": [
            "100%|██████████| 600/600 [01:18<00:00,  7.68it/s]\n"
          ],
          "name": "stderr"
        },
        {
          "output_type": "stream",
          "text": [
            "Epoch 73 of 100 with 78.10 s\n",
            "Generator loss: 1.00294728, Discriminator loss: 1.18653610\n"
          ],
          "name": "stdout"
        },
        {
          "output_type": "stream",
          "text": [
            "100%|██████████| 600/600 [01:17<00:00,  7.70it/s]\n"
          ],
          "name": "stderr"
        },
        {
          "output_type": "stream",
          "text": [
            "Epoch 74 of 100 with 77.89 s\n",
            "Generator loss: 0.99822845, Discriminator loss: 1.18617448\n"
          ],
          "name": "stdout"
        },
        {
          "output_type": "stream",
          "text": [
            "100%|██████████| 600/600 [01:17<00:00,  7.71it/s]\n"
          ],
          "name": "stderr"
        },
        {
          "output_type": "stream",
          "text": [
            "Epoch 75 of 100 with 77.81 s\n",
            "Generator loss: 1.00090385, Discriminator loss: 1.18861087\n"
          ],
          "name": "stdout"
        },
        {
          "output_type": "stream",
          "text": [
            "100%|██████████| 600/600 [01:17<00:00,  7.70it/s]\n"
          ],
          "name": "stderr"
        },
        {
          "output_type": "stream",
          "text": [
            "Epoch 76 of 100 with 77.97 s\n",
            "Generator loss: 1.00362557, Discriminator loss: 1.18841957\n"
          ],
          "name": "stdout"
        },
        {
          "output_type": "stream",
          "text": [
            "100%|██████████| 600/600 [01:18<00:00,  7.60it/s]\n"
          ],
          "name": "stderr"
        },
        {
          "output_type": "stream",
          "text": [
            "Epoch 77 of 100 with 78.94 s\n",
            "Generator loss: 1.00152300, Discriminator loss: 1.18253539\n"
          ],
          "name": "stdout"
        },
        {
          "output_type": "stream",
          "text": [
            "100%|██████████| 600/600 [01:18<00:00,  7.68it/s]\n"
          ],
          "name": "stderr"
        },
        {
          "output_type": "stream",
          "text": [
            "Epoch 78 of 100 with 78.16 s\n",
            "Generator loss: 1.00089831, Discriminator loss: 1.18257995\n"
          ],
          "name": "stdout"
        },
        {
          "output_type": "stream",
          "text": [
            "100%|██████████| 600/600 [01:17<00:00,  7.74it/s]\n"
          ],
          "name": "stderr"
        },
        {
          "output_type": "stream",
          "text": [
            "Epoch 79 of 100 with 77.56 s\n",
            "Generator loss: 0.99600257, Discriminator loss: 1.18959899\n"
          ],
          "name": "stdout"
        },
        {
          "output_type": "stream",
          "text": [
            "100%|██████████| 600/600 [01:17<00:00,  7.71it/s]\n"
          ],
          "name": "stderr"
        },
        {
          "output_type": "stream",
          "text": [
            "Epoch 80 of 100 with 77.78 s\n",
            "Generator loss: 0.99071599, Discriminator loss: 1.18640428\n"
          ],
          "name": "stdout"
        },
        {
          "output_type": "stream",
          "text": [
            "100%|██████████| 600/600 [01:18<00:00,  7.64it/s]\n"
          ],
          "name": "stderr"
        },
        {
          "output_type": "stream",
          "text": [
            "Epoch 81 of 100 with 78.58 s\n",
            "Generator loss: 0.99466767, Discriminator loss: 1.18539929\n"
          ],
          "name": "stdout"
        },
        {
          "output_type": "stream",
          "text": [
            "100%|██████████| 600/600 [01:18<00:00,  7.69it/s]\n"
          ],
          "name": "stderr"
        },
        {
          "output_type": "stream",
          "text": [
            "Epoch 82 of 100 with 78.06 s\n",
            "Generator loss: 0.98818313, Discriminator loss: 1.19126191\n"
          ],
          "name": "stdout"
        },
        {
          "output_type": "stream",
          "text": [
            "100%|██████████| 600/600 [01:17<00:00,  7.72it/s]\n"
          ],
          "name": "stderr"
        },
        {
          "output_type": "stream",
          "text": [
            "Epoch 83 of 100 with 77.71 s\n",
            "Generator loss: 0.99172139, Discriminator loss: 1.18824273\n"
          ],
          "name": "stdout"
        },
        {
          "output_type": "stream",
          "text": [
            "100%|██████████| 600/600 [01:18<00:00,  7.65it/s]\n"
          ],
          "name": "stderr"
        },
        {
          "output_type": "stream",
          "text": [
            "Epoch 84 of 100 with 78.43 s\n",
            "Generator loss: 0.98329634, Discriminator loss: 1.19235193\n"
          ],
          "name": "stdout"
        },
        {
          "output_type": "stream",
          "text": [
            "100%|██████████| 600/600 [01:18<00:00,  7.62it/s]\n"
          ],
          "name": "stderr"
        },
        {
          "output_type": "stream",
          "text": [
            "Epoch 85 of 100 with 78.74 s\n",
            "Generator loss: 0.98773452, Discriminator loss: 1.19091484\n"
          ],
          "name": "stdout"
        },
        {
          "output_type": "stream",
          "text": [
            "100%|██████████| 600/600 [01:17<00:00,  7.73it/s]\n"
          ],
          "name": "stderr"
        },
        {
          "output_type": "stream",
          "text": [
            "Epoch 86 of 100 with 77.66 s\n",
            "Generator loss: 0.98391429, Discriminator loss: 1.19359573\n"
          ],
          "name": "stdout"
        },
        {
          "output_type": "stream",
          "text": [
            "100%|██████████| 600/600 [01:17<00:00,  7.70it/s]\n"
          ],
          "name": "stderr"
        },
        {
          "output_type": "stream",
          "text": [
            "Epoch 87 of 100 with 77.93 s\n",
            "Generator loss: 0.98697554, Discriminator loss: 1.19161318\n"
          ],
          "name": "stdout"
        },
        {
          "output_type": "stream",
          "text": [
            "100%|██████████| 600/600 [01:17<00:00,  7.75it/s]\n"
          ],
          "name": "stderr"
        },
        {
          "output_type": "stream",
          "text": [
            "Epoch 88 of 100 with 77.38 s\n",
            "Generator loss: 0.98767094, Discriminator loss: 1.19385487\n"
          ],
          "name": "stdout"
        },
        {
          "output_type": "stream",
          "text": [
            "100%|██████████| 600/600 [01:18<00:00,  7.68it/s]\n"
          ],
          "name": "stderr"
        },
        {
          "output_type": "stream",
          "text": [
            "Epoch 89 of 100 with 78.08 s\n",
            "Generator loss: 0.98924367, Discriminator loss: 1.19225513\n"
          ],
          "name": "stdout"
        },
        {
          "output_type": "stream",
          "text": [
            "100%|██████████| 600/600 [01:18<00:00,  7.67it/s]\n"
          ],
          "name": "stderr"
        },
        {
          "output_type": "stream",
          "text": [
            "Epoch 90 of 100 with 78.25 s\n",
            "Generator loss: 0.98500022, Discriminator loss: 1.19168437\n"
          ],
          "name": "stdout"
        },
        {
          "output_type": "stream",
          "text": [
            "100%|██████████| 600/600 [01:18<00:00,  7.69it/s]\n"
          ],
          "name": "stderr"
        },
        {
          "output_type": "stream",
          "text": [
            "Epoch 91 of 100 with 78.04 s\n",
            "Generator loss: 0.99651633, Discriminator loss: 1.18917377\n"
          ],
          "name": "stdout"
        },
        {
          "output_type": "stream",
          "text": [
            "100%|██████████| 600/600 [01:18<00:00,  7.63it/s]\n"
          ],
          "name": "stderr"
        },
        {
          "output_type": "stream",
          "text": [
            "Epoch 92 of 100 with 78.66 s\n",
            "Generator loss: 0.98371521, Discriminator loss: 1.19454828\n"
          ],
          "name": "stdout"
        },
        {
          "output_type": "stream",
          "text": [
            "100%|██████████| 600/600 [01:18<00:00,  7.61it/s]\n"
          ],
          "name": "stderr"
        },
        {
          "output_type": "stream",
          "text": [
            "Epoch 93 of 100 with 78.83 s\n",
            "Generator loss: 0.98818956, Discriminator loss: 1.19299539\n"
          ],
          "name": "stdout"
        },
        {
          "output_type": "stream",
          "text": [
            "100%|██████████| 600/600 [01:19<00:00,  7.55it/s]\n"
          ],
          "name": "stderr"
        },
        {
          "output_type": "stream",
          "text": [
            "Epoch 94 of 100 with 79.51 s\n",
            "Generator loss: 0.98449053, Discriminator loss: 1.19141699\n"
          ],
          "name": "stdout"
        },
        {
          "output_type": "stream",
          "text": [
            "100%|██████████| 600/600 [01:19<00:00,  7.55it/s]\n"
          ],
          "name": "stderr"
        },
        {
          "output_type": "stream",
          "text": [
            "Epoch 95 of 100 with 79.51 s\n",
            "Generator loss: 0.96765587, Discriminator loss: 1.20176742\n"
          ],
          "name": "stdout"
        },
        {
          "output_type": "stream",
          "text": [
            "100%|██████████| 600/600 [01:18<00:00,  7.60it/s]\n"
          ],
          "name": "stderr"
        },
        {
          "output_type": "stream",
          "text": [
            "Epoch 96 of 100 with 78.97 s\n",
            "Generator loss: 0.97617476, Discriminator loss: 1.19824530\n"
          ],
          "name": "stdout"
        },
        {
          "output_type": "stream",
          "text": [
            "100%|██████████| 600/600 [01:19<00:00,  7.59it/s]\n"
          ],
          "name": "stderr"
        },
        {
          "output_type": "stream",
          "text": [
            "Epoch 97 of 100 with 79.01 s\n",
            "Generator loss: 0.98162912, Discriminator loss: 1.19664874\n"
          ],
          "name": "stdout"
        },
        {
          "output_type": "stream",
          "text": [
            "100%|██████████| 600/600 [01:18<00:00,  7.60it/s]\n"
          ],
          "name": "stderr"
        },
        {
          "output_type": "stream",
          "text": [
            "Epoch 98 of 100 with 78.95 s\n",
            "Generator loss: 0.97814036, Discriminator loss: 1.19356091\n"
          ],
          "name": "stdout"
        },
        {
          "output_type": "stream",
          "text": [
            "100%|██████████| 600/600 [01:19<00:00,  7.52it/s]\n"
          ],
          "name": "stderr"
        },
        {
          "output_type": "stream",
          "text": [
            "Epoch 99 of 100 with 79.79 s\n",
            "Generator loss: 0.97822927, Discriminator loss: 1.19572921\n"
          ],
          "name": "stdout"
        },
        {
          "output_type": "stream",
          "text": [
            "100%|██████████| 600/600 [01:21<00:00,  7.35it/s]\n"
          ],
          "name": "stderr"
        },
        {
          "output_type": "stream",
          "text": [
            "Epoch 100 of 100 with 81.60 s\n",
            "Generator loss: 0.98582922, Discriminator loss: 1.19308577\n",
            "Avg per epoch ptime: 77.83, total 100 epochs ptime: 7897.94\n",
            "Training finish!... save training results\n"
          ],
          "name": "stdout"
        }
      ]
    }
  ]
}